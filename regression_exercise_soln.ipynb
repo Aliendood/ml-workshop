{
 "cells": [
  {
   "cell_type": "markdown",
   "metadata": {},
   "source": [
    "# Travel times\n",
    "##Description:\t\n",
    "A driver uses an app to track GPS coordinates as he drives to work and back each day. The app collects the location and elevation data. Data for about 200 trips are summarized in this data set.\n",
    "##Data source:\t\n",
    "* Date of travel\n",
    "* StartTime: when getting into the car\n",
    "* DayOfWeek: the day name\n",
    "* GoingTo: direction of travel\n",
    "* Distance travelled in kilometers\n",
    "* MaxSpeed: fastest speed recorded (all trips are on the 407 highway for some portion)\n",
    "* AvgSpeed: the average speed for the entire trip\n",
    "* AvgMovingSpeed: the average speed recorded only while the car is moving\n",
    "* FuelEconomy: a rough estimate of fuel economy (it is inaccurate)\n",
    "* TotalTime: duration of the entire trip, in minutes\n",
    "* MovingTime: duration when the car was considered to be moving (i.e. not counting traffic delays, accidents, or time while the car is stationary)\n",
    "* Take407All: is Yes if the 407 toll highway was taken for the entire trip. I try to avoid taking the 407, taking slower back routes to save costs. But some days I'm running late, or just lazy, and take it all the way.\n",
    "\n",
    "##Comments\n",
    "* Data shape:\t205 rows and 13 columns\n",
    "* Usage restrictions:\tNone\n",
    "* Contact person:\tKevin Dunn\n",
    "* Contact details:\tdatasets@connectmv.com\n",
    "* Added here on:\t17 September 2015\n",
    "* Last updated:\t09 January 2012 13:21\n",
    "\n",
    "#Task\n",
    "\n",
    "Build a regression model to predict the total travel time.\n",
    "\n",
    "##Extension\n",
    "Many of the data points in this data set are only available _after_ the drive. But what if we want to predict how long it will take _before_ we leave?\n",
    "\n",
    "Build a model that makes a prediction based only on data available to the driver _before_ they leave?"
   ]
  },
  {
   "cell_type": "code",
   "execution_count": 1,
   "metadata": {
    "collapsed": false
   },
   "outputs": [
    {
     "name": "stdout",
     "output_type": "stream",
     "text": [
      "Populating the interactive namespace from numpy and matplotlib\n"
     ]
    }
   ],
   "source": [
    "import pandas as pd\n",
    "import numpy as np\n",
    "import matplotlib.pyplot as plt\n",
    "%pylab inline"
   ]
  },
  {
   "cell_type": "markdown",
   "metadata": {},
   "source": [
    "##1. Read the data into a data frame using pandas."
   ]
  },
  {
   "cell_type": "code",
   "execution_count": 2,
   "metadata": {
    "collapsed": false
   },
   "outputs": [
    {
     "data": {
      "text/html": [
       "<div style=\"max-height:1000px;max-width:1500px;overflow:auto;\">\n",
       "<table border=\"1\" class=\"dataframe\">\n",
       "  <thead>\n",
       "    <tr style=\"text-align: right;\">\n",
       "      <th></th>\n",
       "      <th>Date</th>\n",
       "      <th>StartTime</th>\n",
       "      <th>DayOfWeek</th>\n",
       "      <th>GoingTo</th>\n",
       "      <th>Distance</th>\n",
       "      <th>MaxSpeed</th>\n",
       "      <th>AvgSpeed</th>\n",
       "      <th>AvgMovingSpeed</th>\n",
       "      <th>FuelEconomy</th>\n",
       "      <th>TotalTime</th>\n",
       "      <th>MovingTime</th>\n",
       "      <th>Take407All</th>\n",
       "      <th>Comments</th>\n",
       "    </tr>\n",
       "  </thead>\n",
       "  <tbody>\n",
       "    <tr>\n",
       "      <th>0</th>\n",
       "      <td> 1/6/2012</td>\n",
       "      <td> 16:37</td>\n",
       "      <td>    Friday</td>\n",
       "      <td> Home</td>\n",
       "      <td> 51.29</td>\n",
       "      <td> 127.4</td>\n",
       "      <td> 78.3</td>\n",
       "      <td> 84.8</td>\n",
       "      <td> NaN</td>\n",
       "      <td> 39.3</td>\n",
       "      <td> 36.3</td>\n",
       "      <td> No</td>\n",
       "      <td> NaN</td>\n",
       "    </tr>\n",
       "    <tr>\n",
       "      <th>1</th>\n",
       "      <td> 1/6/2012</td>\n",
       "      <td> 08:20</td>\n",
       "      <td>    Friday</td>\n",
       "      <td>  GSK</td>\n",
       "      <td> 51.63</td>\n",
       "      <td> 130.3</td>\n",
       "      <td> 81.8</td>\n",
       "      <td> 88.9</td>\n",
       "      <td> NaN</td>\n",
       "      <td> 37.9</td>\n",
       "      <td> 34.9</td>\n",
       "      <td> No</td>\n",
       "      <td> NaN</td>\n",
       "    </tr>\n",
       "    <tr>\n",
       "      <th>2</th>\n",
       "      <td> 1/4/2012</td>\n",
       "      <td> 16:17</td>\n",
       "      <td> Wednesday</td>\n",
       "      <td> Home</td>\n",
       "      <td> 51.27</td>\n",
       "      <td> 127.4</td>\n",
       "      <td> 82.0</td>\n",
       "      <td> 85.8</td>\n",
       "      <td> NaN</td>\n",
       "      <td> 37.5</td>\n",
       "      <td> 35.9</td>\n",
       "      <td> No</td>\n",
       "      <td> NaN</td>\n",
       "    </tr>\n",
       "    <tr>\n",
       "      <th>3</th>\n",
       "      <td> 1/4/2012</td>\n",
       "      <td> 07:53</td>\n",
       "      <td> Wednesday</td>\n",
       "      <td>  GSK</td>\n",
       "      <td> 49.17</td>\n",
       "      <td> 132.3</td>\n",
       "      <td> 74.2</td>\n",
       "      <td> 82.9</td>\n",
       "      <td> NaN</td>\n",
       "      <td> 39.8</td>\n",
       "      <td> 35.6</td>\n",
       "      <td> No</td>\n",
       "      <td> NaN</td>\n",
       "    </tr>\n",
       "    <tr>\n",
       "      <th>4</th>\n",
       "      <td> 1/3/2012</td>\n",
       "      <td> 18:57</td>\n",
       "      <td>   Tuesday</td>\n",
       "      <td> Home</td>\n",
       "      <td> 51.15</td>\n",
       "      <td> 136.2</td>\n",
       "      <td> 83.4</td>\n",
       "      <td> 88.1</td>\n",
       "      <td> NaN</td>\n",
       "      <td> 36.8</td>\n",
       "      <td> 34.8</td>\n",
       "      <td> No</td>\n",
       "      <td> NaN</td>\n",
       "    </tr>\n",
       "  </tbody>\n",
       "</table>\n",
       "</div>"
      ],
      "text/plain": [
       "       Date StartTime  DayOfWeek GoingTo  Distance  MaxSpeed  AvgSpeed  \\\n",
       "0  1/6/2012     16:37     Friday    Home     51.29     127.4      78.3   \n",
       "1  1/6/2012     08:20     Friday     GSK     51.63     130.3      81.8   \n",
       "2  1/4/2012     16:17  Wednesday    Home     51.27     127.4      82.0   \n",
       "3  1/4/2012     07:53  Wednesday     GSK     49.17     132.3      74.2   \n",
       "4  1/3/2012     18:57    Tuesday    Home     51.15     136.2      83.4   \n",
       "\n",
       "   AvgMovingSpeed FuelEconomy  TotalTime  MovingTime Take407All Comments  \n",
       "0            84.8         NaN       39.3        36.3         No      NaN  \n",
       "1            88.9         NaN       37.9        34.9         No      NaN  \n",
       "2            85.8         NaN       37.5        35.9         No      NaN  \n",
       "3            82.9         NaN       39.8        35.6         No      NaN  \n",
       "4            88.1         NaN       36.8        34.8         No      NaN  "
      ]
     },
     "execution_count": 2,
     "metadata": {},
     "output_type": "execute_result"
    }
   ],
   "source": [
    "df = pd.read_csv('data/travel-times.csv')\n",
    "df.head()"
   ]
  },
  {
   "cell_type": "markdown",
   "metadata": {},
   "source": [
    "##2. Create X and y matrices\n",
    "\n",
    "Take only the columns which have numeric values and make that the `X` matrix. Make the `TotalTime` the `y` vector. Make sure that the Total Time *isn't* in your X matrix!"
   ]
  },
  {
   "cell_type": "code",
   "execution_count": 3,
   "metadata": {
    "collapsed": false
   },
   "outputs": [],
   "source": [
    "regression_columns = ['Distance', 'MaxSpeed', 'AvgSpeed', 'AvgMovingSpeed', 'MovingTime']\n",
    "X = df[regression_columns].values\n",
    "y = df['TotalTime'].values"
   ]
  },
  {
   "cell_type": "markdown",
   "metadata": {},
   "source": [
    "##3. Build a baseline KNN model with k=10"
   ]
  },
  {
   "cell_type": "code",
   "execution_count": 4,
   "metadata": {
    "collapsed": false
   },
   "outputs": [
    {
     "data": {
      "text/plain": [
       "KNeighborsRegressor(algorithm='auto', leaf_size=30, metric='minkowski',\n",
       "          metric_params=None, n_neighbors=10, p=2, weights='uniform')"
      ]
     },
     "execution_count": 4,
     "metadata": {},
     "output_type": "execute_result"
    }
   ],
   "source": [
    "from sklearn.neighbors import KNeighborsRegressor\n",
    "\n",
    "baseline = KNeighborsRegressor(n_neighbors=10)\n",
    "baseline.fit(X, y)"
   ]
  },
  {
   "cell_type": "markdown",
   "metadata": {},
   "source": [
    "## 4. Calculate the root mean squared error of the baseline."
   ]
  },
  {
   "cell_type": "code",
   "execution_count": 5,
   "metadata": {
    "collapsed": false
   },
   "outputs": [
    {
     "data": {
      "text/plain": [
       "2.7731230083629885"
      ]
     },
     "execution_count": 5,
     "metadata": {},
     "output_type": "execute_result"
    }
   ],
   "source": [
    "from sklearn.metrics import mean_squared_error\n",
    "\n",
    "predict = baseline.predict(X)\n",
    "np.sqrt(mean_squared_error(predict, df.TotalTime))"
   ]
  },
  {
   "cell_type": "markdown",
   "metadata": {},
   "source": [
    "## Challenge 1: Use Cross-Validation to compare performance of different values of k."
   ]
  },
  {
   "cell_type": "code",
   "execution_count": 6,
   "metadata": {
    "collapsed": false
   },
   "outputs": [
    {
     "data": {
      "text/plain": [
       "[<matplotlib.lines.Line2D at 0x1090c2bd0>]"
      ]
     },
     "execution_count": 6,
     "metadata": {},
     "output_type": "execute_result"
    },
    {
     "data": {
      "image/png": "[encoded data removed]",
      "text/plain": [
       "<matplotlib.figure.Figure at 0x109024a10>"
      ]
     },
     "metadata": {},
     "output_type": "display_data"
    }
   ],
   "source": [
    "from sklearn.cross_validation import KFold\n",
    "\n",
    "# function from lecture notes\n",
    "def kfold_cv_error(model, X, y, folds):\n",
    "    test_error = []\n",
    "    for train_index, test_index in folds:\n",
    "        model.fit(X[train_index], y[train_index])\n",
    "        predict = model.predict(X[test_index])\n",
    "        fold_error = np.sqrt(mean_squared_error(y[test_index], predict))\n",
    "        test_error.append(fold_error)\n",
    "    return np.mean(test_error)\n",
    "\n",
    "#What values of k to test.\n",
    "neighbors = range(1, 20)\n",
    "#What errors for those k\n",
    "folds = KFold(df.shape[0], n_folds=10)\n",
    "errors = [kfold_cv_error(KNeighborsRegressor(k), X, y, folds) for k in neighbors]\n",
    "\n",
    "plt.plot(neighbors, errors)"
   ]
  },
  {
   "cell_type": "markdown",
   "metadata": {
    "collapsed": true
   },
   "source": [
    "## Challenge 2: Transform non-numeric data\n",
    "\n",
    "* Make the `Take407All` variable a boolean column.\n",
    "* Make the `GoingTo` column a boolean column.\n",
    "* Make the pandas function `get_dummies` to create dummy columns for the DayOfWeek"
   ]
  },
  {
   "cell_type": "code",
   "execution_count": 7,
   "metadata": {
    "collapsed": false
   },
   "outputs": [
    {
     "data": {
      "text/html": [
       "<div style=\"max-height:1000px;max-width:1500px;overflow:auto;\">\n",
       "<table border=\"1\" class=\"dataframe\">\n",
       "  <thead>\n",
       "    <tr style=\"text-align: right;\">\n",
       "      <th></th>\n",
       "      <th>Distance</th>\n",
       "      <th>MaxSpeed</th>\n",
       "      <th>AvgSpeed</th>\n",
       "      <th>AvgMovingSpeed</th>\n",
       "      <th>MovingTime</th>\n",
       "      <th>Friday</th>\n",
       "      <th>Monday</th>\n",
       "      <th>Thursday</th>\n",
       "      <th>Tuesday</th>\n",
       "      <th>Wednesday</th>\n",
       "    </tr>\n",
       "  </thead>\n",
       "  <tbody>\n",
       "    <tr>\n",
       "      <th>0</th>\n",
       "      <td> 51.29</td>\n",
       "      <td> 127.4</td>\n",
       "      <td> 78.3</td>\n",
       "      <td> 84.8</td>\n",
       "      <td> 36.3</td>\n",
       "      <td> 1</td>\n",
       "      <td> 0</td>\n",
       "      <td> 0</td>\n",
       "      <td> 0</td>\n",
       "      <td> 0</td>\n",
       "    </tr>\n",
       "    <tr>\n",
       "      <th>1</th>\n",
       "      <td> 51.63</td>\n",
       "      <td> 130.3</td>\n",
       "      <td> 81.8</td>\n",
       "      <td> 88.9</td>\n",
       "      <td> 34.9</td>\n",
       "      <td> 1</td>\n",
       "      <td> 0</td>\n",
       "      <td> 0</td>\n",
       "      <td> 0</td>\n",
       "      <td> 0</td>\n",
       "    </tr>\n",
       "    <tr>\n",
       "      <th>2</th>\n",
       "      <td> 51.27</td>\n",
       "      <td> 127.4</td>\n",
       "      <td> 82.0</td>\n",
       "      <td> 85.8</td>\n",
       "      <td> 35.9</td>\n",
       "      <td> 0</td>\n",
       "      <td> 0</td>\n",
       "      <td> 0</td>\n",
       "      <td> 0</td>\n",
       "      <td> 1</td>\n",
       "    </tr>\n",
       "    <tr>\n",
       "      <th>3</th>\n",
       "      <td> 49.17</td>\n",
       "      <td> 132.3</td>\n",
       "      <td> 74.2</td>\n",
       "      <td> 82.9</td>\n",
       "      <td> 35.6</td>\n",
       "      <td> 0</td>\n",
       "      <td> 0</td>\n",
       "      <td> 0</td>\n",
       "      <td> 0</td>\n",
       "      <td> 1</td>\n",
       "    </tr>\n",
       "    <tr>\n",
       "      <th>4</th>\n",
       "      <td> 51.15</td>\n",
       "      <td> 136.2</td>\n",
       "      <td> 83.4</td>\n",
       "      <td> 88.1</td>\n",
       "      <td> 34.8</td>\n",
       "      <td> 0</td>\n",
       "      <td> 0</td>\n",
       "      <td> 0</td>\n",
       "      <td> 1</td>\n",
       "      <td> 0</td>\n",
       "    </tr>\n",
       "  </tbody>\n",
       "</table>\n",
       "</div>"
      ],
      "text/plain": [
       "   Distance  MaxSpeed  AvgSpeed  AvgMovingSpeed  MovingTime  Friday  Monday  \\\n",
       "0     51.29     127.4      78.3            84.8        36.3       1       0   \n",
       "1     51.63     130.3      81.8            88.9        34.9       1       0   \n",
       "2     51.27     127.4      82.0            85.8        35.9       0       0   \n",
       "3     49.17     132.3      74.2            82.9        35.6       0       0   \n",
       "4     51.15     136.2      83.4            88.1        34.8       0       0   \n",
       "\n",
       "   Thursday  Tuesday  Wednesday  \n",
       "0         0        0          0  \n",
       "1         0        0          0  \n",
       "2         0        0          1  \n",
       "3         0        0          1  \n",
       "4         0        1          0  "
      ]
     },
     "execution_count": 7,
     "metadata": {},
     "output_type": "execute_result"
    }
   ],
   "source": [
    "df['Take407All_bool'] = df['Take407All'] == 'Yes'\n",
    "df['GoingHome_bool'] = df['GoingTo'] == 'Home'\n",
    "columns = regression_columns + ['Take407All_bool', 'GoingHome_bool']\n",
    "tt_transformed = pd.concat([df[regression_columns],\n",
    "                            pd.get_dummies(df['DayOfWeek'])], axis=1)\n",
    "tt_transformed.head()"
   ]
  },
  {
   "cell_type": "code",
   "execution_count": 8,
   "metadata": {
    "collapsed": false
   },
   "outputs": [
    {
     "data": {
      "text/plain": [
       "[<matplotlib.lines.Line2D at 0x109322710>]"
      ]
     },
     "execution_count": 8,
     "metadata": {},
     "output_type": "execute_result"
    },
    {
     "data": {
      "image/png": "[encoded data removed]",
      "text/plain": [
       "<matplotlib.figure.Figure at 0x10900d090>"
      ]
     },
     "metadata": {},
     "output_type": "display_data"
    }
   ],
   "source": [
    "X_transformed = tt_transformed.values\n",
    "\n",
    "neighbors = range(1, 20)\n",
    "folds = KFold(df.shape[0], n_folds=10)\n",
    "errors = [kfold_cv_error(KNeighborsRegressor(k), X_transformed, y, folds) for k in neighbors]\n",
    "\n",
    "plt.plot(neighbors, errors)"
   ]
  }
 ],
 "metadata": {
  "kernelspec": {
   "display_name": "Python 2",
   "language": "python",
   "name": "python2"
  },
  "language_info": {
   "codemirror_mode": {
    "name": "ipython",
    "version": 2
   },
   "file_extension": ".py",
   "mimetype": "text/x-python",
   "name": "python",
   "nbconvert_exporter": "python",
   "pygments_lexer": "ipython2",
   "version": "2.7.9"
  }
 },
 "nbformat": 4,
 "nbformat_minor": 0
}
