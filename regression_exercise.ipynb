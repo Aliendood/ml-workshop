{
 "cells": [
  {
   "cell_type": "markdown",
   "metadata": {},
   "source": [
    "# Travel times\n",
    "##Description:\t\n",
    "A driver uses an app to track GPS coordinates as he drives to work and back each day. The app collects the location and elevation data. Data for about 200 trips are summarized in this data set.\n",
    "##Data source:\t\n",
    "* Date of travel\n",
    "* StartTime: when getting into the car\n",
    "* DayOfWeek: the day name\n",
    "* GoingTo: direction of travel\n",
    "* Distance travelled in kilometers\n",
    "* MaxSpeed: fastest speed recorded (all trips are on the 407 highway for some portion)\n",
    "* AvgSpeed: the average speed for the entire trip\n",
    "* AvgMovingSpeed: the average speed recorded only while the car is moving\n",
    "* FuelEconomy: a rough estimate of fuel economy (it is inaccurate)\n",
    "* TotalTime: duration of the entire trip, in minutes\n",
    "* MovingTime: duration when the car was considered to be moving (i.e. not counting traffic delays, accidents, or time while the car is stationary)\n",
    "* Take407All: is Yes if the 407 toll highway was taken for the entire trip. I try to avoid taking the 407, taking slower back routes to save costs. But some days I'm running late, or just lazy, and take it all the way.\n",
    "\n",
    "##Comments\n",
    "* Data shape:\t205 rows and 13 columns\n",
    "* Usage restrictions:\tNone\n",
    "* Contact person:\tKevin Dunn\n",
    "* Contact details:\tdatasets@connectmv.com\n",
    "* Added here on:\t17 September 2015\n",
    "* Last updated:\t09 January 2012 13:21\n",
    "\n",
    "#Task\n",
    "\n",
    "Build a regression model to predict the total travel time.\n",
    "\n",
    "##Extension\n",
    "Many of the data points in this data set are only available _after_ the drive. But what if we want to predict how long it will take _before_ we leave?\n",
    "\n",
    "Build a model that makes a prediction based only on data available to the driver _before_ they leave?"
   ]
  },
  {
   "cell_type": "code",
   "execution_count": 1,
   "metadata": {
    "collapsed": false
   },
   "outputs": [
    {
     "name": "stdout",
     "output_type": "stream",
     "text": [
      "Populating the interactive namespace from numpy and matplotlib\n"
     ]
    }
   ],
   "source": [
    "import pandas as pd\n",
    "import numpy as np\n",
    "import matplotlib.pyplot as plt\n",
    "%pylab inline"
   ]
  },
  {
   "cell_type": "markdown",
   "metadata": {},
   "source": [
    "##1. Read the data into a data frame using pandas."
   ]
  },
  {
   "cell_type": "code",
   "execution_count": null,
   "metadata": {
    "collapsed": false
   },
   "outputs": [],
   "source": []
  },
  {
   "cell_type": "markdown",
   "metadata": {},
   "source": [
    "##2. Create X and y matrices\n",
    "\n",
    "Take only the columns which have numeric values and make that the `X` matrix. Make the `TotalTime` the `y` vector. Make sure that the Total Time *isn't* in your X matrix!"
   ]
  },
  {
   "cell_type": "code",
   "execution_count": null,
   "metadata": {
    "collapsed": false
   },
   "outputs": [],
   "source": []
  },
  {
   "cell_type": "markdown",
   "metadata": {},
   "source": [
    "##3. Build a baseline KNN model with k=10"
   ]
  },
  {
   "cell_type": "code",
   "execution_count": 2,
   "metadata": {
    "collapsed": false
   },
   "outputs": [],
   "source": [
    "from sklearn.neighbors import KNeighborsRegressor\n",
    "\n"
   ]
  },
  {
   "cell_type": "markdown",
   "metadata": {},
   "source": [
    "## 4. Calculate the root mean squared error of the baseline."
   ]
  },
  {
   "cell_type": "code",
   "execution_count": 3,
   "metadata": {
    "collapsed": false
   },
   "outputs": [],
   "source": [
    "from sklearn.metrics import mean_squared_error\n",
    "\n"
   ]
  },
  {
   "cell_type": "markdown",
   "metadata": {},
   "source": [
    "## Challenge 1: Use Cross-Validation to compare performance of different values of k."
   ]
  },
  {
   "cell_type": "code",
   "execution_count": 4,
   "metadata": {
    "collapsed": false
   },
   "outputs": [],
   "source": [
    "from sklearn.cross_validation import KFold\n",
    "\n",
    "# function from lecture notes\n",
    "def kfold_cv_error(model, X, y, folds):\n",
    "    test_error = []\n",
    "    for train_index, test_index in folds:\n",
    "        model.fit(X[train_index], y[train_index])\n",
    "        predict = model.predict(X[test_index])\n",
    "        fold_error = np.sqrt(mean_squared_error(y[test_index], predict))\n",
    "        test_error.append(fold_error)\n",
    "    return np.mean(test_error)\n",
    "\n"
   ]
  },
  {
   "cell_type": "markdown",
   "metadata": {
    "collapsed": true
   },
   "source": [
    "## Challenge 2: Transform non-numeric data\n",
    "\n",
    "* Make the `Take407All` variable a boolean column.\n",
    "* Make the `GoingTo` column a boolean column.\n",
    "* Make the pandas function `get_dummies` to create dummy columns for the DayOfWeek"
   ]
  },
  {
   "cell_type": "code",
   "execution_count": null,
   "metadata": {
    "collapsed": false
   },
   "outputs": [],
   "source": []
  }
 ],
 "metadata": {
  "kernelspec": {
   "display_name": "Python 2",
   "language": "python",
   "name": "python2"
  },
  "language_info": {
   "codemirror_mode": {
    "name": "ipython",
    "version": 2
   },
   "file_extension": ".py",
   "mimetype": "text/x-python",
   "name": "python",
   "nbconvert_exporter": "python",
   "pygments_lexer": "ipython2",
   "version": "2.7.9"
  }
 },
 "nbformat": 4,
 "nbformat_minor": 0
}
