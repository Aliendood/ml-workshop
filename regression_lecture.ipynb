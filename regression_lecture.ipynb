{
 "cells": [
  {
   "cell_type": "markdown",
   "metadata": {
    "slideshow": {
     "slide_type": "slide"
    }
   },
   "source": [
    "#Regression\n",
    "\n",
    "Regression refers to any machine learning or statistical method predict numerical data.\n",
    "\n",
    "Here are some example questions:\n",
    "\n",
    "* How much is the house going to sell for?\n",
    "* What is the fuel efficiency of this car (given size, horsepower, etc.)?\n",
    "* How many people will buy tickets to an event?"
   ]
  },
  {
   "cell_type": "markdown",
   "metadata": {
    "slideshow": {
     "slide_type": "fragment"
    }
   },
   "source": [
    "## Regression Algorithms\n",
    "\n",
    "These are the two algorithms we'll look at today:\n",
    "\n",
    "* Linear Regression (but not _Logistic Regression_)\n",
    "* kNN"
   ]
  },
  {
   "cell_type": "markdown",
   "metadata": {
    "slideshow": {
     "slide_type": "slide"
    }
   },
   "source": [
    "#How Delicious is Cheese?\n",
    "\n",
    "As cheese ages, various chemical processes take place that determine the taste of the final product.\n",
    "\n",
    "* 30 samples of mature cheddar cheese\n",
    "\n",
    "Variables:\n",
    "* Acetic: concentration of acetic acid\n",
    "* H2S: concentration of hydogen sulfide\n",
    "* Lactic: concentration of lactic acid\n",
    "\n",
    "Labels:\n",
    "* taste: subjective measure of taste (what we're trying to predict)\n",
    "\n",
    "The labels are the true values according to experts.\n",
    "\n",
    "We will learn from our labeled data so that we can make predictions on unlabeled data."
   ]
  },
  {
   "cell_type": "markdown",
   "metadata": {
    "slideshow": {
     "slide_type": "slide"
    }
   },
   "source": [
    "#Data"
   ]
  },
  {
   "cell_type": "code",
   "execution_count": 1,
   "metadata": {
    "collapsed": false,
    "slideshow": {
     "slide_type": "fragment"
    }
   },
   "outputs": [
    {
     "data": {
      "text/html": [
       "<div style=\"max-height:1000px;max-width:1500px;overflow:auto;\">\n",
       "<table border=\"1\" class=\"dataframe\">\n",
       "  <thead>\n",
       "    <tr style=\"text-align: right;\">\n",
       "      <th></th>\n",
       "      <th>taste</th>\n",
       "      <th>Acetic</th>\n",
       "      <th>H2S</th>\n",
       "      <th>Lactic</th>\n",
       "    </tr>\n",
       "  </thead>\n",
       "  <tbody>\n",
       "    <tr>\n",
       "      <th>0</th>\n",
       "      <td> 12.3</td>\n",
       "      <td>  93.972295</td>\n",
       "      <td>   22.988636</td>\n",
       "      <td> 0.86</td>\n",
       "    </tr>\n",
       "    <tr>\n",
       "      <th>1</th>\n",
       "      <td> 20.9</td>\n",
       "      <td> 173.990378</td>\n",
       "      <td>  154.934121</td>\n",
       "      <td> 1.53</td>\n",
       "    </tr>\n",
       "    <tr>\n",
       "      <th>2</th>\n",
       "      <td> 39.0</td>\n",
       "      <td> 214.005133</td>\n",
       "      <td>  229.981760</td>\n",
       "      <td> 1.57</td>\n",
       "    </tr>\n",
       "    <tr>\n",
       "      <th>3</th>\n",
       "      <td> 47.9</td>\n",
       "      <td> 317.031139</td>\n",
       "      <td> 1800.824690</td>\n",
       "      <td> 1.81</td>\n",
       "    </tr>\n",
       "    <tr>\n",
       "      <th>4</th>\n",
       "      <td>  5.6</td>\n",
       "      <td> 105.953466</td>\n",
       "      <td>   45.015191</td>\n",
       "      <td> 0.99</td>\n",
       "    </tr>\n",
       "  </tbody>\n",
       "</table>\n",
       "</div>"
      ],
      "text/plain": [
       "   taste      Acetic          H2S  Lactic\n",
       "0   12.3   93.972295    22.988636    0.86\n",
       "1   20.9  173.990378   154.934121    1.53\n",
       "2   39.0  214.005133   229.981760    1.57\n",
       "3   47.9  317.031139  1800.824690    1.81\n",
       "4    5.6  105.953466    45.015191    0.99"
      ]
     },
     "execution_count": 1,
     "metadata": {},
     "output_type": "execute_result"
    }
   ],
   "source": [
    "import pandas as pd\n",
    "\n",
    "df = pd.read_csv('data/cheese.csv')\n",
    "df = df.drop('Case', axis=1) #Case is an id number, we don't care about it.\n",
    "df.head()"
   ]
  },
  {
   "cell_type": "markdown",
   "metadata": {
    "slideshow": {
     "slide_type": "slide"
    }
   },
   "source": [
    "#The regression problem\n",
    "\n",
    "$$\n",
    "y = f(X) + \\epsilon\n",
    "$$\n",
    "\n",
    "* Find _*some function*_ $f$ that allows us to compute the target y using information in the matrix X.\n",
    "* $\\epsilon$ is our admission that our function may not fit perfectly."
   ]
  },
  {
   "cell_type": "markdown",
   "metadata": {
    "slideshow": {
     "slide_type": "slide"
    }
   },
   "source": [
    "# Choosing $f(X)$\n",
    "\n",
    "One particularly straightforward choice assumes a linear relationship between the variables and the response.\n",
    "\n",
    "##Linear Regression\n",
    "\n",
    "$$\n",
    "f(X) = \\beta_0 + \\beta_1 x_1 + \\beta_2 x_2 + ... \\beta_n x_n\n",
    "$$\n",
    "\n",
    "In fact, there are lots of cases where the relationships are linear (or can be transformed). So this is often a good choice."
   ]
  },
  {
   "cell_type": "markdown",
   "metadata": {
    "slideshow": {
     "slide_type": "slide"
    }
   },
   "source": [
    "# Linear Regression pictorally\n",
    "\n",
    "Goal: find a line that fits the data.\n",
    "\n",
    "We can visualize when we have just 1 feature.\n",
    "\n",
    "Our data:\n",
    "\n",
    "![Linear Regression](images/linear_regression.png)"
   ]
  },
  {
   "cell_type": "markdown",
   "metadata": {
    "slideshow": {
     "slide_type": "slide"
    }
   },
   "source": [
    "A line fits the data nicely...\n",
    "\n",
    "![Linear Regression](images/linear_regression_line.png)"
   ]
  },
  {
   "cell_type": "code",
   "execution_count": 2,
   "metadata": {
    "collapsed": false,
    "slideshow": {
     "slide_type": "slide"
    }
   },
   "outputs": [
    {
     "name": "stdout",
     "output_type": "stream",
     "text": [
      "Populating the interactive namespace from numpy and matplotlib\n"
     ]
    },
    {
     "data": {
      "text/plain": [
       "<matplotlib.text.Text at 0x1092dcf90>"
      ]
     },
     "execution_count": 2,
     "metadata": {},
     "output_type": "execute_result"
    },
    {
     "data": {
      "image/png": "[encoded data removed]",
      "text/plain": [
       "<matplotlib.figure.Figure at 0x10351c350>"
      ]
     },
     "metadata": {},
     "output_type": "display_data"
    }
   ],
   "source": [
    "from sklearn.linear_model import LinearRegression\n",
    "%pylab inline\n",
    "\n",
    "X = df[['Acetic', 'H2S', 'Lactic']].values\n",
    "y = df['taste'].values\n",
    "ols = LinearRegression()\n",
    "ols.fit(X, y)\n",
    "predictions = ols.predict(X)\n",
    "\n",
    "#Plot the actual vs. predicted\n",
    "plt.figure(figsize=(12, 8))\n",
    "plt.scatter(df.taste, predictions)\n",
    "plt.title(\"Predicted Values vs. Actual\")\n",
    "plt.xlabel(\"Actual Taste\")\n",
    "plt.ylabel(\"Predicted Taste\")"
   ]
  },
  {
   "cell_type": "markdown",
   "metadata": {
    "slideshow": {
     "slide_type": "slide"
    }
   },
   "source": [
    "#How well are we doing?\n",
    "\n",
    "Perfect model would put all points along the line y = x.\n",
    "\n",
    "A measure of how well we're doing is _Root Mean Squared Error_."
   ]
  },
  {
   "cell_type": "markdown",
   "metadata": {
    "slideshow": {
     "slide_type": "fragment"
    }
   },
   "source": [
    "#RMSE\n",
    "\n",
    "$$\n",
    "RMSE = \\sqrt{\\frac{1}{n}\\sum_i\\left(y_i - f(x_i)\\right)}\n",
    "$$\n"
   ]
  },
  {
   "cell_type": "code",
   "execution_count": 3,
   "metadata": {
    "collapsed": false,
    "slideshow": {
     "slide_type": "fragment"
    }
   },
   "outputs": [
    {
     "data": {
      "text/plain": [
       "10.414106382577401"
      ]
     },
     "execution_count": 3,
     "metadata": {},
     "output_type": "execute_result"
    }
   ],
   "source": [
    "from sklearn.metrics import mean_squared_error\n",
    "\n",
    "def rmse(target, predicted):\n",
    "    return sqrt(mean_squared_error(target, predicted))\n",
    "\n",
    "rmse(df.taste, predictions)"
   ]
  },
  {
   "cell_type": "markdown",
   "metadata": {
    "slideshow": {
     "slide_type": "slide"
    }
   },
   "source": [
    "#What if our data isn't linear?\n",
    "\n",
    "1. Make it linear via transformations!\n",
    "2. Use another model!\n",
    "\n",
    "#How would we know it isn't linear?"
   ]
  },
  {
   "cell_type": "code",
   "execution_count": 4,
   "metadata": {
    "collapsed": false,
    "slideshow": {
     "slide_type": "slide"
    }
   },
   "outputs": [
    {
     "data": {
      "image/png": "[encoded data removed]",
      "text/plain": [
       "<matplotlib.figure.Figure at 0x106c34810>"
      ]
     },
     "metadata": {},
     "output_type": "display_data"
    }
   ],
   "source": [
    "pd.tools.plotting.scatter_matrix(df, figsize=(10, 10))\n",
    "plt.show()"
   ]
  },
  {
   "cell_type": "markdown",
   "metadata": {
    "slideshow": {
     "slide_type": "slide"
    }
   },
   "source": [
    "#1. Make it linear via transformations.\n",
    "\n"
   ]
  },
  {
   "cell_type": "code",
   "execution_count": 5,
   "metadata": {
    "collapsed": false,
    "slideshow": {
     "slide_type": "fragment"
    }
   },
   "outputs": [
    {
     "data": {
      "text/plain": [
       "<matplotlib.text.Text at 0x109758cd0>"
      ]
     },
     "execution_count": 5,
     "metadata": {},
     "output_type": "execute_result"
    },
    {
     "data": {
      "image/png": "[encoded data removed]",
      "text/plain": [
       "<matplotlib.figure.Figure at 0x10a66b6d0>"
      ]
     },
     "metadata": {},
     "output_type": "display_data"
    }
   ],
   "source": [
    "X_transform = pd.concat([df[['Acetic', 'H2S']].apply(np.log),\n",
    "                         df[['Lactic']]], axis=1).values\n",
    "ols_transform = LinearRegression().fit(X_transform, df.taste)\n",
    "predictions_transform = ols_transform.predict(X_transform)\n",
    "\n",
    "#Plot the actual vs. predicted\n",
    "plt.figure(figsize=(12,8))\n",
    "plt.scatter(df.taste, predictions_transform)\n",
    "plt.title(\"Predicted Values vs. Actual\")\n",
    "plt.xlabel(\"Actual Taste\")\n",
    "plt.ylabel(\"Predicted Taste\")"
   ]
  },
  {
   "cell_type": "markdown",
   "metadata": {
    "slideshow": {
     "slide_type": "slide"
    }
   },
   "source": [
    "#So did we do better?\n",
    "\n",
    "##Compare the scores"
   ]
  },
  {
   "cell_type": "code",
   "execution_count": 6,
   "metadata": {
    "collapsed": false,
    "slideshow": {
     "slide_type": "fragment"
    }
   },
   "outputs": [
    {
     "name": "stdout",
     "output_type": "stream",
     "text": [
      "          original: 10.4141063826\n",
      "with log transform: 9.43117363909\n"
     ]
    }
   ],
   "source": [
    "#Use RMSE instead.\n",
    "print \"          original:\", rmse(predictions, y)\n",
    "print \"with log transform:\", rmse(predictions_transform, y)"
   ]
  },
  {
   "cell_type": "markdown",
   "metadata": {
    "slideshow": {
     "slide_type": "slide"
    }
   },
   "source": [
    "#Linear debrief\n",
    "We were able to choose a transformation that made linear regression perform better, but there a some _potentially_ unsatisfying aspects about this:\n",
    "\n",
    "1. What guarantee do we have that the function is the best?\n",
    "2. What if the _correct_ function is one that we never even try?\n",
    "3. What if we don't want to think about choosing a function?"
   ]
  },
  {
   "cell_type": "markdown",
   "metadata": {
    "slideshow": {
     "slide_type": "fragment"
    }
   },
   "source": [
    "# 2. Another model choice... KNN\n",
    "\n",
    "For example, we could average the values of $y$ for the $k$ nearest points to any given $x_i$\n",
    "\n",
    "$$\n",
    "f(X) = \\frac{1}{k}\\sum_{i \\in N_k(x_i)}y_i\n",
    "$$\n",
    "\n",
    "To predict, find the *k nearest datapoints* and average their values!"
   ]
  },
  {
   "cell_type": "code",
   "execution_count": 7,
   "metadata": {
    "collapsed": false,
    "slideshow": {
     "slide_type": "slide"
    }
   },
   "outputs": [
    {
     "name": "stdout",
     "output_type": "stream",
     "text": [
      "knn rmse: 10.2134401648\n"
     ]
    }
   ],
   "source": [
    "from sklearn.neighbors import KNeighborsRegressor\n",
    "\n",
    "knn_model = KNeighborsRegressor()\n",
    "knn_model.fit(X, y)\n",
    "predictions_knn = knn_model.predict(X)\n",
    "\n",
    "print \"knn rmse:\", rmse(predictions_knn, y)"
   ]
  },
  {
   "cell_type": "markdown",
   "metadata": {
    "slideshow": {
     "slide_type": "slide"
    }
   },
   "source": [
    "#Data Science, it's easy\n",
    "...to overfit."
   ]
  },
  {
   "cell_type": "markdown",
   "metadata": {
    "slideshow": {
     "slide_type": "slide"
    }
   },
   "source": [
    "#Restating our objective\n",
    "\n",
    "Choose some $f$ that allows a good approximation\n",
    "\n",
    "$$ y = f(X) + \\epsilon $$ for *new data*."
   ]
  },
  {
   "cell_type": "markdown",
   "metadata": {
    "collapsed": false,
    "slideshow": {
     "slide_type": "slide"
    }
   },
   "source": [
    "![knn overfitting](images/knn.png)"
   ]
  },
  {
   "cell_type": "markdown",
   "metadata": {
    "slideshow": {
     "slide_type": "slide"
    }
   },
   "source": [
    "#Predicting on unseen data\n",
    "\n",
    "To know how well our model will perform on unseen data, we test it using data it hasn't been trained on.\n",
    "\n",
    "Use tools in `sklearn.cross_validation`"
   ]
  },
  {
   "cell_type": "code",
   "execution_count": 8,
   "metadata": {
    "collapsed": false,
    "slideshow": {
     "slide_type": "fragment"
    }
   },
   "outputs": [
    {
     "name": "stdout",
     "output_type": "stream",
     "text": [
      "(20, 3) (10, 3)\n"
     ]
    }
   ],
   "source": [
    "from sklearn.cross_validation import train_test_split\n",
    "\n",
    "train_X, test_X, train_y, test_y = train_test_split(X, y,\n",
    "                                                    test_size=10)\n",
    "print train_X.shape, test_X.shape"
   ]
  },
  {
   "cell_type": "code",
   "execution_count": 9,
   "metadata": {
    "collapsed": false,
    "slideshow": {
     "slide_type": "fragment"
    }
   },
   "outputs": [],
   "source": [
    "n_neighbors = range(1,20)\n",
    "models = [KNeighborsRegressor(i).fit(train_X, train_y)\n",
    "          for i in n_neighbors]\n",
    "train_scores = [rmse(train_y, model.predict(train_X))\n",
    "                for model in models]\n",
    "test_scores = [rmse(test_y, model.predict(test_X))\n",
    "               for model in models]"
   ]
  },
  {
   "cell_type": "code",
   "execution_count": 10,
   "metadata": {
    "collapsed": false,
    "slideshow": {
     "slide_type": "slide"
    }
   },
   "outputs": [
    {
     "data": {
      "text/plain": [
       "<matplotlib.legend.Legend at 0x10bdb0250>"
      ]
     },
     "execution_count": 10,
     "metadata": {},
     "output_type": "execute_result"
    },
    {
     "data": {
      "image/png": "[encoded data removed]",
      "text/plain": [
       "<matplotlib.figure.Figure at 0x10a47fd90>"
      ]
     },
     "metadata": {},
     "output_type": "display_data"
    }
   ],
   "source": [
    "plt.figure(figsize=(12,8))\n",
    "plt.plot(n_neighbors, test_scores, color='green', label='Test')\n",
    "plt.plot(n_neighbors, train_scores, color='b', label='Train')\n",
    "plt.title(\"Train vs. Test Error\")\n",
    "plt.legend(loc='upper left')"
   ]
  },
  {
   "cell_type": "markdown",
   "metadata": {
    "slideshow": {
     "slide_type": "slide"
    }
   },
   "source": [
    "### Question\n",
    "\n",
    "Why might what we've done _not really_ tell us what kind of RMSE to expect for new cheeses?"
   ]
  },
  {
   "cell_type": "markdown",
   "metadata": {
    "slideshow": {
     "slide_type": "fragment"
    }
   },
   "source": [
    "### Answer\n",
    "\n",
    "If the testing set we've randomly chosen is somehow unusually _hard_ or _easy_."
   ]
  },
  {
   "cell_type": "markdown",
   "metadata": {
    "slideshow": {
     "slide_type": "fragment"
    }
   },
   "source": [
    "### Solution\n",
    "\n",
    "Use K-Fold Cross Validation.\n",
    "\n",
    "* Many different test sets are chosen, and we consider the mean performance on all of those test sets.\n",
    "* This gives us more confidence that our error represents our model performance, not the _difficulty_ of a single test set."
   ]
  },
  {
   "cell_type": "code",
   "execution_count": 11,
   "metadata": {
    "collapsed": false,
    "slideshow": {
     "slide_type": "slide"
    }
   },
   "outputs": [
    {
     "data": {
      "text/plain": [
       "[<matplotlib.lines.Line2D at 0x10a436690>]"
      ]
     },
     "execution_count": 11,
     "metadata": {},
     "output_type": "execute_result"
    },
    {
     "data": {
      "image/png": "[encoded data removed]",
      "text/plain": [
       "<matplotlib.figure.Figure at 0x10b9fc890>"
      ]
     },
     "metadata": {},
     "output_type": "display_data"
    }
   ],
   "source": [
    "from sklearn.cross_validation import KFold\n",
    "\n",
    "def kfold_cv_error(model, X, y, folds):\n",
    "    test_error = []\n",
    "    for train_index, test_index in folds:\n",
    "        model.fit(X[train_index], y[train_index])\n",
    "        predict = model.predict(X[test_index])\n",
    "        fold_error = rmse(y[test_index], predict)\n",
    "        test_error.append(fold_error)\n",
    "    return np.mean(test_error)\n",
    "\n",
    "folds = KFold(len(X), n_folds=10)\n",
    "errors = []\n",
    "for k in xrange(1, 20):\n",
    "    err = kfold_cv_error(KNeighborsRegressor(n_neighbors=k), X, y, folds)\n",
    "    errors.append(err)\n",
    "\n",
    "plt.figure(figsize=(12,8))\n",
    "plt.plot(range(1, 20), errors)"
   ]
  },
  {
   "cell_type": "markdown",
   "metadata": {
    "collapsed": true,
    "slideshow": {
     "slide_type": "slide"
    }
   },
   "source": [
    "#Regression Exericise\n",
    "* See the `regression_exercise.ipynb` file for a new dataset and some hints on how to work on a regression problem on your own.\n"
   ]
  }
 ],
 "metadata": {
  "celltoolbar": "Slideshow",
  "kernelspec": {
   "display_name": "Python 2",
   "language": "python",
   "name": "python2"
  },
  "language_info": {
   "codemirror_mode": {
    "name": "ipython",
    "version": 2
   },
   "file_extension": ".py",
   "mimetype": "text/x-python",
   "name": "python",
   "nbconvert_exporter": "python",
   "pygments_lexer": "ipython2",
   "version": "2.7.9"
  }
 },
 "nbformat": 4,
 "nbformat_minor": 0
}
