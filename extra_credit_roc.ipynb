{
 "cells": [
  {
   "cell_type": "markdown",
   "metadata": {},
   "source": [
    "# ROC Curve\n",
    "\n",
    "Logistic Regression doesn't just predict which class a datapoint belongs to, it actually gives a probability. This is a value from 0 to 1 which indicates the probability of it belonging to class 1. We typically say if the value is 0.5 or above it belongs in class 1, and if the value is below 0.5 we put it in class 0.\n",
    "\n",
    "However, we can vary this threshold which will affect the precision and recall values. Varying the threshold gives us an infinite number of models. We plot two values, one of which is the recall. The other is the false positive rate, which catches the same idea as the precision.\n",
    "\n",
    "Here are the two values (and their many names):\n",
    "\n",
    "* **True Positive Rate (Sensitivity, Recall)**\n",
    "\n",
    "    ```\n",
    "     number predicted positively that are truely positive\n",
    "    ------------------------------------------------------\n",
    "                 number truely positive\n",
    "    ```\n",
    "\n",
    "* **False Positive Rate (1 - Specificity)**\n",
    "\n",
    "    ```\n",
    "     number predicted positively that are incorrect\n",
    "    ------------------------------------------------\n",
    "               number truely negative\n",
    "    ```"
   ]
  },
  {
   "cell_type": "markdown",
   "metadata": {},
   "source": [
    "Follow the [sklearn's example](http://scikit-learn.org/stable/auto_examples/model_selection/plot_roc.html) to build an ROC curve for one or both of the example datasets we've used for classification."
   ]
  },
  {
   "cell_type": "code",
   "execution_count": null,
   "metadata": {
    "collapsed": false
   },
   "outputs": [],
   "source": []
  }
 ],
 "metadata": {
  "kernelspec": {
   "display_name": "Python 2",
   "language": "python",
   "name": "python2"
  },
  "language_info": {
   "codemirror_mode": {
    "name": "ipython",
    "version": 2
   },
   "file_extension": ".py",
   "mimetype": "text/x-python",
   "name": "python",
   "nbconvert_exporter": "python",
   "pygments_lexer": "ipython2",
   "version": "2.7.9"
  }
 },
 "nbformat": 4,
 "nbformat_minor": 0
}
